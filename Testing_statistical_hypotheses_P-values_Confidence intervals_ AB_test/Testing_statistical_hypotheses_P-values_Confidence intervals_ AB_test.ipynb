{
 "cells": [
  {
   "cell_type": "markdown",
   "metadata": {},
   "source": [
    "### 1. Известно, что генеральная совокупность распределена нормально со средним квадратическим отклонением, равным 16. Найти доверительный интервал для оценки математического ожидания a с надежностью 0.95, если выборочная средняя M = 80, а объем выборки n = 256."
   ]
  },
  {
   "cell_type": "markdown",
   "metadata": {},
   "source": [
    "### Решение:\n",
    "### Так как известна $\\sigma$ генеральной свокупности, то вспользуемся z-критерием \n",
    "### $ \\overline{X} \\pm Z_{\\frac{\\sigma}{2}}\\cdot\\frac{\\sigma}{\\sqrt{n}} \\Rightarrow 80 \\pm 1.96 \\cdot \\frac{16}{16} \\Rightarrow [78.04, 81.96]$\n"
   ]
  },
  {
   "cell_type": "markdown",
   "metadata": {},
   "source": [
    "### 2. В результате 10 независимых измерений некоторой величины X, выполненных с одинаковой точностью, получены опытные данные: 6.9, 6.1, 6.2, 6.8, 7.5, 6.3, 6.4, 6.9, 6.7, 6.1 Предполагая, что результаты измерений подчинены нормальному закону распределения вероятностей, оценить истинное значение величины X при помощи доверительного интервала, покрывающего это значение с доверительной вероятностью 0,95."
   ]
  },
  {
   "cell_type": "markdown",
   "metadata": {},
   "source": [
    "### Решение:\n",
    "### Так как не известна  𝜎  генеральной свокупности, то вспользуемся t-критерием\n",
    "### $ \\overline{X} \\pm t_{\\frac{\\sigma}{2}}\\cdot\\frac{\\sigma}{\\sqrt{n}} $"
   ]
  },
  {
   "cell_type": "code",
   "execution_count": 20,
   "metadata": {},
   "outputs": [
    {
     "data": {
      "text/plain": [
       "[6.267538255912426, 6.912461744087575]"
      ]
     },
     "execution_count": 20,
     "metadata": {},
     "output_type": "execute_result"
    }
   ],
   "source": [
    "import numpy as np\n",
    "X = [6.9, 6.1, 6.2, 6.8, 7.5, 6.3, 6.4, 6.9, 6.7, 6.1]\n",
    "sigma = np.std(X, ddof=1)\n",
    "mu = np.mean(X)\n",
    "t = 2.262\n",
    "[mu - t*(sigma / np.sqrt(len(X))), mu + t*(sigma / np.sqrt(len(X)))]\n"
   ]
  },
  {
   "cell_type": "markdown",
   "metadata": {},
   "source": [
    "### 3.Утверждается, что шарики для подшипников, изготовленные автоматическим станком, имеют средний диаметр 17 мм. Используя односторонний критерий с α=0,05, проверить эту гипотезу, если в выборке из n=100 шариков средний диаметр оказался равным 17.5 мм, а дисперсия известна и равна 4 кв.мм."
   ]
  },
  {
   "cell_type": "markdown",
   "metadata": {},
   "source": [
    "### Решение:\n",
    "### $ Z_{table=0,95} = 1,65 $\n",
    "### $ Z_{calculated} = \\frac{\\mu - \\mu_{0}}{\\frac{\\sigma}{\\sqrt{n}}} \\Rightarrow \\frac{17.5 - 17}{\\frac{2}{10}} = 2.5$\n",
    "### $Z_{calculated} > Z_{table} \\Rightarrow$ - гипотеза не верна (H0) "
   ]
  },
  {
   "cell_type": "markdown",
   "metadata": {},
   "source": [
    "### 4. Продавец утверждает, что средний вес пачки печенья составляет 200 г. Из партии извлечена выборка из 10 пачек. Вес каждой пачки составляет: 202, 203, 199, 197, 195, 201, 200, 204, 194, 190. Известно, что их веса распределены нормально. Верно ли утверждение продавца, если учитывать, что доверительная вероятность равна 99%?"
   ]
  },
  {
   "cell_type": "markdown",
   "metadata": {},
   "source": [
    "### Решение:"
   ]
  },
  {
   "cell_type": "code",
   "execution_count": 19,
   "metadata": {},
   "outputs": [
    {
     "data": {
      "text/plain": [
       "-1.0651074037450896"
      ]
     },
     "execution_count": 19,
     "metadata": {},
     "output_type": "execute_result"
    }
   ],
   "source": [
    "import numpy as np\n",
    "X = [202, 203, 199, 197, 195, 201, 200, 204, 194, 190]\n",
    "sigma = np.std(X, ddof=1)\n",
    "mu = np.mean(X)\n",
    "t_calc = (mu - 200) / (sigma/np.sqrt(10))\n",
    "t_table = 3.250\n",
    "t_calc"
   ]
  },
  {
   "cell_type": "markdown",
   "metadata": {},
   "source": [
    "### $ -t_{table} = -3.250 < t_{calculated} = -1.065 < t_{table}  = 3.250 \\Rightarrow$ - утверждение продавца верное (H0) "
   ]
  }
 ],
 "metadata": {
  "kernelspec": {
   "display_name": "Python 3",
   "language": "python",
   "name": "python3"
  },
  "language_info": {
   "codemirror_mode": {
    "name": "ipython",
    "version": 3
   },
   "file_extension": ".py",
   "mimetype": "text/x-python",
   "name": "python",
   "nbconvert_exporter": "python",
   "pygments_lexer": "ipython3",
   "version": "3.7.6"
  }
 },
 "nbformat": 4,
 "nbformat_minor": 4
}
