{
 "cells": [
  {
   "cell_type": "markdown",
   "metadata": {},
   "source": [
    "### 1.Даны значения величины заработной платы заемщиков банка (zp) и значения их поведенческого кредитного скоринга (ks):zp = [35, 45, 190, 200, 40, 70, 54, 150, 120, 110], ks = [401, 574, 874, 919, 459, 739, 653, 902, 746, 832].Найдите ковариацию этих двух величин с помощью элементарных действий, а затем с помощью функции cov из numpy. Полученные значения должны быть равны. Найдите коэффициент корреляции Пирсона с помощью ковариации и среднеквадратичных отклонений двух признаков, а затем с использованием функций из библиотек numpy и pandas."
   ]
  },
  {
   "cell_type": "code",
   "execution_count": 93,
   "metadata": {},
   "outputs": [
    {
     "name": "stdout",
     "output_type": "stream",
     "text": [
      "Ковариация вычисленная - 9157.84\n",
      "Смещенная ковариация используя numpy - 9157.84\n",
      "Несмещенная ковариация используя numpy - 10175.38\n",
      "Коэффициент корреляции Пирсона вычисленный - 0.8875\n",
      "Коэффициент корреляции Пирсона numpy - 0.8875\n",
      "Несмещенный коэффициент корреляции Пирсона pandas - 10175.38\n"
     ]
    }
   ],
   "source": [
    "import numpy as np\n",
    "import pandas as pd\n",
    "\n",
    "\n",
    "zp = [35, 45, 190, 200, 40, 70, 54, 150, 120, 110]\n",
    "ks = [401, 574, 874, 919, 459, 739, 653, 902, 746, 832]\n",
    "\n",
    "mean_zp = sum(zp) / len(zp) \n",
    "mean_ks = sum(ks) / len(ks)\n",
    "mean_zp_ks = sum(np.array(zp) * np.array(ks)) / len(zp)\n",
    "\n",
    "cov_ks_zp_calc = mean_zp_ks - mean_zp * mean_ks\n",
    "print(f'Ковариация вычисленная - {round(cov_ks_zp_calc, 2)}')\n",
    "\n",
    "cov_numpy = np.cov(zp,ks, ddof=0)\n",
    "print(f'Смещенная ковариация используя numpy - {cov_numpy[1,0]}')\n",
    "\n",
    "cov_numpy = np.cov(zp,ks, ddof=1)\n",
    "print(f'Несмещенная ковариация используя numpy - {round(cov_numpy[1,0], 2)}')\n",
    "\n",
    "coeff_cor_Pirson_calc = cov_ks_zp_calc / (np.std(zp) * np.std(ks))\n",
    "print(f'Коэффициент корреляции Пирсона вычисленный - {round(coeff_cor_Pirson_calc, 4)}')\n",
    "\n",
    "coeff_cor_Pirson_numpy = np.corrcoef(zp, ks)\n",
    "print(f'Коэффициент корреляции Пирсона numpy - {round(coeff_cor_Pirson_numpy[1, 0], 4)}')\n",
    "\n",
    "\n",
    "pd_frame = pd.DataFrame({'zp': zp,'ks': ks}, columns=['zp','ks'])\n",
    "print(f'Несмещенный коэффициент корреляции Пирсона pandas - {round(pd_frame.cov().values[1,0], 2)}')"
   ]
  },
  {
   "cell_type": "markdown",
   "metadata": {},
   "source": [
    "### 2. Измерены значения IQ выборки студентов, обучающихся в местных технических вузах: 131, 125, 115, 122, 131, 115, 107, 99, 125, 111. Известно, что в генеральной совокупности IQ распределен нормально. Найдите доверительный интервал для математического ожидания с надежностью 0.95."
   ]
  },
  {
   "cell_type": "code",
   "execution_count": 108,
   "metadata": {},
   "outputs": [
    {
     "data": {
      "text/plain": [
       "[110.55608365158724, 125.64391634841274]"
      ]
     },
     "execution_count": 108,
     "metadata": {},
     "output_type": "execute_result"
    }
   ],
   "source": [
    "import numpy as np\n",
    "import scipy.stats\n",
    "\n",
    "iq_ = [131, 125, 115, 122, 131, 115, 107, 99, 125, 111]\n",
    "sigma = np.std(iq_, ddof=1)\n",
    "mu = np.mean(iq_)\n",
    "t = scipy.stats.t.ppf(0.975,9)\n",
    "[mu - t*(sigma / np.sqrt(len(iq_))), mu + t*(sigma / np.sqrt(len(iq_)))]"
   ]
  },
  {
   "cell_type": "markdown",
   "metadata": {},
   "source": [
    "### 3. Известно, что рост футболистов в сборной распределен нормально с дисперсией генеральной совокупности, равной 25 кв.см. Объем выборки равен 27, среднее выборочное составляет 174.2. Найдите доверительный интервал для математического ожидания с надежностью 0.95."
   ]
  },
  {
   "cell_type": "code",
   "execution_count": 128,
   "metadata": {},
   "outputs": [
    {
     "name": "stdout",
     "output_type": "stream",
     "text": [
      "1.959963984540054\n"
     ]
    },
    {
     "data": {
      "text/plain": [
       "[172.3140237765397, 176.08597622346028]"
      ]
     },
     "execution_count": 128,
     "metadata": {},
     "output_type": "execute_result"
    }
   ],
   "source": [
    "import numpy as np\n",
    "import scipy.stats\n",
    "\n",
    "sigma = np.sqrt(25)\n",
    "mu_ = 174.2\n",
    "z = scipy.stats.norm.ppf(0.975)\n",
    "print(z)\n",
    "[mu_ - z * sigma / np.sqrt(27) , mu_ + z * sigma / np.sqrt(27)]"
   ]
  },
  {
   "cell_type": "code",
   "execution_count": null,
   "metadata": {},
   "outputs": [],
   "source": []
  }
 ],
 "metadata": {
  "kernelspec": {
   "display_name": "Python 3",
   "language": "python",
   "name": "python3"
  },
  "language_info": {
   "codemirror_mode": {
    "name": "ipython",
    "version": 3
   },
   "file_extension": ".py",
   "mimetype": "text/x-python",
   "name": "python",
   "nbconvert_exporter": "python",
   "pygments_lexer": "ipython3",
   "version": "3.7.6"
  }
 },
 "nbformat": 4,
 "nbformat_minor": 4
}
